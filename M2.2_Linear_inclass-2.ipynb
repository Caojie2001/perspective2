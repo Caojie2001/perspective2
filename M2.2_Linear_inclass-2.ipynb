{
 "cells": [
  {
   "cell_type": "markdown",
   "id": "46eed391",
   "metadata": {},
   "source": [
    "## Linear methods for regression and classification\n",
    "In this jupyter notebook, we will practice the topics covered in the lectures. Specially, we will do hands-on practice of:\n",
    "- load and prepare data for machine learning model training and testing\n",
    "- train and test linear models (linear regression (lasso/ridge), polynomial regression, and logistic regression)\n",
    "- compare and understand model performance \n",
    "\n",
    "For implementations that have fixed results, we provide running examples for your reference. *You might get slightly different results due to the sklearn version you are using, just leave a comment to indicate your version where you get different results.*<br>"
   ]
  },
  {
   "cell_type": "markdown",
   "id": "a5acb55f",
   "metadata": {},
   "source": [
    "## Linear Regression and Polynomial Regression\n",
    "In this section, we will explore the diabetes dataset:\n",
    "- https://scikit-learn.org/stable/modules/generated/sklearn.datasets.load_diabetes.html#sklearn.datasets.load_diabetes <br>\n",
    "\n",
    "This dataset contains n = 442 diabetes patients' information of ten variables: age, sex, body mass index, average blood pressure, and six blood serum measurements. Each patient has a quantitative value of disease progression one year after baseline.\n",
    "\n",
    "\n",
    "We will fit different regression models to analyze this dataset: \n",
    "The steps include:\n",
    "1. Basic data exploration:\n",
    "    > what does the data look like (#samples, #features) <br>\n",
    "    > the feature matrix and description of each feature <br>\n",
    "    > the target variable <br>\n",
    "    \n",
    "2. Prepare data for model training and testing <br>\n",
    "\n",
    "3. Fit different regression models (linear/lasso/ridge) on the training set and evaluate model performance on the testing set <br>\n",
    "\n",
    "4. Compare and understand model performance through interpreting coefficients.\n",
    "\n",
    "**Note:** please always add comments to explain your observations/findings"
   ]
  },
  {
   "cell_type": "code",
   "execution_count": 1,
   "id": "eab86d6a",
   "metadata": {
    "ExecuteTime": {
     "end_time": "2024-02-02T17:45:52.966791Z",
     "start_time": "2024-02-02T17:45:51.795703Z"
    }
   },
   "outputs": [],
   "source": [
    "import numpy as np\n",
    "import pandas as pd\n",
    "from sklearn.linear_model import LinearRegression, Ridge, Lasso\n",
    "from sklearn.preprocessing import PolynomialFeatures\n",
    "from sklearn.model_selection import train_test_split\n",
    "import matplotlib.pyplot as plt\n",
    "\n",
    "%matplotlib inline"
   ]
  },
  {
   "cell_type": "code",
   "execution_count": 2,
   "id": "6253bf61",
   "metadata": {
    "ExecuteTime": {
     "end_time": "2024-02-02T17:45:55.457749Z",
     "start_time": "2024-02-02T17:45:55.410334Z"
    }
   },
   "outputs": [],
   "source": [
    "from sklearn.datasets import load_diabetes"
   ]
  },
  {
   "cell_type": "code",
   "execution_count": 3,
   "id": "36fb790a",
   "metadata": {
    "ExecuteTime": {
     "end_time": "2024-02-02T17:45:57.479596Z",
     "start_time": "2024-02-02T17:45:57.469794Z"
    }
   },
   "outputs": [],
   "source": [
    "# there are different ways to load the dataset, please make sure you understand the mechanism\n",
    "# reference: https://scikit-learn.org/stable/modules/generated/sklearn.datasets.load_diabetes.html\n",
    "data = load_diabetes(as_frame=True)"
   ]
  },
  {
   "cell_type": "markdown",
   "id": "db355e95",
   "metadata": {},
   "source": [
    "### Basic dataset exploration "
   ]
  },
  {
   "cell_type": "code",
   "execution_count": 4,
   "id": "94e585c4",
   "metadata": {
    "ExecuteTime": {
     "end_time": "2024-02-02T17:45:59.876025Z",
     "start_time": "2024-02-02T17:45:59.863419Z"
    }
   },
   "outputs": [
    {
     "data": {
      "text/plain": "((442, 10), (442,))"
     },
     "execution_count": 4,
     "metadata": {},
     "output_type": "execute_result"
    }
   ],
   "source": [
    "data.data.shape, data.target.shape"
   ]
  },
  {
   "cell_type": "code",
   "execution_count": 5,
   "id": "83f34331",
   "metadata": {
    "ExecuteTime": {
     "end_time": "2024-02-02T17:46:01.833610Z",
     "start_time": "2024-02-02T17:46:01.821046Z"
    }
   },
   "outputs": [
    {
     "data": {
      "text/plain": "['age', 'sex', 'bmi', 'bp', 's1', 's2', 's3', 's4', 's5', 's6']"
     },
     "execution_count": 5,
     "metadata": {},
     "output_type": "execute_result"
    }
   ],
   "source": [
    "data.feature_names"
   ]
  },
  {
   "cell_type": "code",
   "execution_count": 6,
   "id": "abcc0287",
   "metadata": {
    "ExecuteTime": {
     "end_time": "2024-02-02T17:46:10.883330Z",
     "start_time": "2024-02-02T17:46:10.869993Z"
    }
   },
   "outputs": [
    {
     "data": {
      "text/plain": "          age       sex       bmi        bp        s1        s2        s3  \\\n0    0.038076  0.050680  0.061696  0.021872 -0.044223 -0.034821 -0.043401   \n1   -0.001882 -0.044642 -0.051474 -0.026328 -0.008449 -0.019163  0.074412   \n2    0.085299  0.050680  0.044451 -0.005670 -0.045599 -0.034194 -0.032356   \n3   -0.089063 -0.044642 -0.011595 -0.036656  0.012191  0.024991 -0.036038   \n4    0.005383 -0.044642 -0.036385  0.021872  0.003935  0.015596  0.008142   \n..        ...       ...       ...       ...       ...       ...       ...   \n437  0.041708  0.050680  0.019662  0.059744 -0.005697 -0.002566 -0.028674   \n438 -0.005515  0.050680 -0.015906 -0.067642  0.049341  0.079165 -0.028674   \n439  0.041708  0.050680 -0.015906  0.017293 -0.037344 -0.013840 -0.024993   \n440 -0.045472 -0.044642  0.039062  0.001215  0.016318  0.015283 -0.028674   \n441 -0.045472 -0.044642 -0.073030 -0.081413  0.083740  0.027809  0.173816   \n\n           s4        s5        s6  target  \n0   -0.002592  0.019907 -0.017646   151.0  \n1   -0.039493 -0.068332 -0.092204    75.0  \n2   -0.002592  0.002861 -0.025930   141.0  \n3    0.034309  0.022688 -0.009362   206.0  \n4   -0.002592 -0.031988 -0.046641   135.0  \n..        ...       ...       ...     ...  \n437 -0.002592  0.031193  0.007207   178.0  \n438  0.034309 -0.018114  0.044485   104.0  \n439 -0.011080 -0.046883  0.015491   132.0  \n440  0.026560  0.044529 -0.025930   220.0  \n441 -0.039493 -0.004222  0.003064    57.0  \n\n[442 rows x 11 columns]",
      "text/html": "<div>\n<style scoped>\n    .dataframe tbody tr th:only-of-type {\n        vertical-align: middle;\n    }\n\n    .dataframe tbody tr th {\n        vertical-align: top;\n    }\n\n    .dataframe thead th {\n        text-align: right;\n    }\n</style>\n<table border=\"1\" class=\"dataframe\">\n  <thead>\n    <tr style=\"text-align: right;\">\n      <th></th>\n      <th>age</th>\n      <th>sex</th>\n      <th>bmi</th>\n      <th>bp</th>\n      <th>s1</th>\n      <th>s2</th>\n      <th>s3</th>\n      <th>s4</th>\n      <th>s5</th>\n      <th>s6</th>\n      <th>target</th>\n    </tr>\n  </thead>\n  <tbody>\n    <tr>\n      <th>0</th>\n      <td>0.038076</td>\n      <td>0.050680</td>\n      <td>0.061696</td>\n      <td>0.021872</td>\n      <td>-0.044223</td>\n      <td>-0.034821</td>\n      <td>-0.043401</td>\n      <td>-0.002592</td>\n      <td>0.019907</td>\n      <td>-0.017646</td>\n      <td>151.0</td>\n    </tr>\n    <tr>\n      <th>1</th>\n      <td>-0.001882</td>\n      <td>-0.044642</td>\n      <td>-0.051474</td>\n      <td>-0.026328</td>\n      <td>-0.008449</td>\n      <td>-0.019163</td>\n      <td>0.074412</td>\n      <td>-0.039493</td>\n      <td>-0.068332</td>\n      <td>-0.092204</td>\n      <td>75.0</td>\n    </tr>\n    <tr>\n      <th>2</th>\n      <td>0.085299</td>\n      <td>0.050680</td>\n      <td>0.044451</td>\n      <td>-0.005670</td>\n      <td>-0.045599</td>\n      <td>-0.034194</td>\n      <td>-0.032356</td>\n      <td>-0.002592</td>\n      <td>0.002861</td>\n      <td>-0.025930</td>\n      <td>141.0</td>\n    </tr>\n    <tr>\n      <th>3</th>\n      <td>-0.089063</td>\n      <td>-0.044642</td>\n      <td>-0.011595</td>\n      <td>-0.036656</td>\n      <td>0.012191</td>\n      <td>0.024991</td>\n      <td>-0.036038</td>\n      <td>0.034309</td>\n      <td>0.022688</td>\n      <td>-0.009362</td>\n      <td>206.0</td>\n    </tr>\n    <tr>\n      <th>4</th>\n      <td>0.005383</td>\n      <td>-0.044642</td>\n      <td>-0.036385</td>\n      <td>0.021872</td>\n      <td>0.003935</td>\n      <td>0.015596</td>\n      <td>0.008142</td>\n      <td>-0.002592</td>\n      <td>-0.031988</td>\n      <td>-0.046641</td>\n      <td>135.0</td>\n    </tr>\n    <tr>\n      <th>...</th>\n      <td>...</td>\n      <td>...</td>\n      <td>...</td>\n      <td>...</td>\n      <td>...</td>\n      <td>...</td>\n      <td>...</td>\n      <td>...</td>\n      <td>...</td>\n      <td>...</td>\n      <td>...</td>\n    </tr>\n    <tr>\n      <th>437</th>\n      <td>0.041708</td>\n      <td>0.050680</td>\n      <td>0.019662</td>\n      <td>0.059744</td>\n      <td>-0.005697</td>\n      <td>-0.002566</td>\n      <td>-0.028674</td>\n      <td>-0.002592</td>\n      <td>0.031193</td>\n      <td>0.007207</td>\n      <td>178.0</td>\n    </tr>\n    <tr>\n      <th>438</th>\n      <td>-0.005515</td>\n      <td>0.050680</td>\n      <td>-0.015906</td>\n      <td>-0.067642</td>\n      <td>0.049341</td>\n      <td>0.079165</td>\n      <td>-0.028674</td>\n      <td>0.034309</td>\n      <td>-0.018114</td>\n      <td>0.044485</td>\n      <td>104.0</td>\n    </tr>\n    <tr>\n      <th>439</th>\n      <td>0.041708</td>\n      <td>0.050680</td>\n      <td>-0.015906</td>\n      <td>0.017293</td>\n      <td>-0.037344</td>\n      <td>-0.013840</td>\n      <td>-0.024993</td>\n      <td>-0.011080</td>\n      <td>-0.046883</td>\n      <td>0.015491</td>\n      <td>132.0</td>\n    </tr>\n    <tr>\n      <th>440</th>\n      <td>-0.045472</td>\n      <td>-0.044642</td>\n      <td>0.039062</td>\n      <td>0.001215</td>\n      <td>0.016318</td>\n      <td>0.015283</td>\n      <td>-0.028674</td>\n      <td>0.026560</td>\n      <td>0.044529</td>\n      <td>-0.025930</td>\n      <td>220.0</td>\n    </tr>\n    <tr>\n      <th>441</th>\n      <td>-0.045472</td>\n      <td>-0.044642</td>\n      <td>-0.073030</td>\n      <td>-0.081413</td>\n      <td>0.083740</td>\n      <td>0.027809</td>\n      <td>0.173816</td>\n      <td>-0.039493</td>\n      <td>-0.004222</td>\n      <td>0.003064</td>\n      <td>57.0</td>\n    </tr>\n  </tbody>\n</table>\n<p>442 rows × 11 columns</p>\n</div>"
     },
     "execution_count": 6,
     "metadata": {},
     "output_type": "execute_result"
    }
   ],
   "source": [
    "data.frame"
   ]
  },
  {
   "cell_type": "code",
   "execution_count": 7,
   "id": "8fe381e5",
   "metadata": {
    "ExecuteTime": {
     "end_time": "2024-02-02T17:46:14.968508Z",
     "start_time": "2024-02-02T17:46:14.920708Z"
    }
   },
   "outputs": [
    {
     "data": {
      "text/plain": "           age      sex      bmi       bp       s1       s2       s3       s4  \\\ncount  442.000  442.000  442.000  442.000  442.000  442.000  442.000  442.000   \nmean    -0.000    0.000   -0.000   -0.000   -0.000    0.000   -0.000   -0.000   \nstd      0.048    0.048    0.048    0.048    0.048    0.048    0.048    0.048   \nmin     -0.107   -0.045   -0.090   -0.112   -0.127   -0.116   -0.102   -0.076   \n25%     -0.037   -0.045   -0.034   -0.037   -0.034   -0.030   -0.035   -0.039   \n50%      0.005   -0.045   -0.007   -0.006   -0.004   -0.004   -0.007   -0.003   \n75%      0.038    0.051    0.031    0.036    0.028    0.030    0.029    0.034   \nmax      0.111    0.051    0.171    0.132    0.154    0.199    0.181    0.185   \n\n            s5       s6   target  \ncount  442.000  442.000  442.000  \nmean     0.000    0.000  152.133  \nstd      0.048    0.048   77.093  \nmin     -0.126   -0.138   25.000  \n25%     -0.033   -0.033   87.000  \n50%     -0.002   -0.001  140.500  \n75%      0.032    0.028  211.500  \nmax      0.134    0.136  346.000  ",
      "text/html": "<div>\n<style scoped>\n    .dataframe tbody tr th:only-of-type {\n        vertical-align: middle;\n    }\n\n    .dataframe tbody tr th {\n        vertical-align: top;\n    }\n\n    .dataframe thead th {\n        text-align: right;\n    }\n</style>\n<table border=\"1\" class=\"dataframe\">\n  <thead>\n    <tr style=\"text-align: right;\">\n      <th></th>\n      <th>age</th>\n      <th>sex</th>\n      <th>bmi</th>\n      <th>bp</th>\n      <th>s1</th>\n      <th>s2</th>\n      <th>s3</th>\n      <th>s4</th>\n      <th>s5</th>\n      <th>s6</th>\n      <th>target</th>\n    </tr>\n  </thead>\n  <tbody>\n    <tr>\n      <th>count</th>\n      <td>442.000</td>\n      <td>442.000</td>\n      <td>442.000</td>\n      <td>442.000</td>\n      <td>442.000</td>\n      <td>442.000</td>\n      <td>442.000</td>\n      <td>442.000</td>\n      <td>442.000</td>\n      <td>442.000</td>\n      <td>442.000</td>\n    </tr>\n    <tr>\n      <th>mean</th>\n      <td>-0.000</td>\n      <td>0.000</td>\n      <td>-0.000</td>\n      <td>-0.000</td>\n      <td>-0.000</td>\n      <td>0.000</td>\n      <td>-0.000</td>\n      <td>-0.000</td>\n      <td>0.000</td>\n      <td>0.000</td>\n      <td>152.133</td>\n    </tr>\n    <tr>\n      <th>std</th>\n      <td>0.048</td>\n      <td>0.048</td>\n      <td>0.048</td>\n      <td>0.048</td>\n      <td>0.048</td>\n      <td>0.048</td>\n      <td>0.048</td>\n      <td>0.048</td>\n      <td>0.048</td>\n      <td>0.048</td>\n      <td>77.093</td>\n    </tr>\n    <tr>\n      <th>min</th>\n      <td>-0.107</td>\n      <td>-0.045</td>\n      <td>-0.090</td>\n      <td>-0.112</td>\n      <td>-0.127</td>\n      <td>-0.116</td>\n      <td>-0.102</td>\n      <td>-0.076</td>\n      <td>-0.126</td>\n      <td>-0.138</td>\n      <td>25.000</td>\n    </tr>\n    <tr>\n      <th>25%</th>\n      <td>-0.037</td>\n      <td>-0.045</td>\n      <td>-0.034</td>\n      <td>-0.037</td>\n      <td>-0.034</td>\n      <td>-0.030</td>\n      <td>-0.035</td>\n      <td>-0.039</td>\n      <td>-0.033</td>\n      <td>-0.033</td>\n      <td>87.000</td>\n    </tr>\n    <tr>\n      <th>50%</th>\n      <td>0.005</td>\n      <td>-0.045</td>\n      <td>-0.007</td>\n      <td>-0.006</td>\n      <td>-0.004</td>\n      <td>-0.004</td>\n      <td>-0.007</td>\n      <td>-0.003</td>\n      <td>-0.002</td>\n      <td>-0.001</td>\n      <td>140.500</td>\n    </tr>\n    <tr>\n      <th>75%</th>\n      <td>0.038</td>\n      <td>0.051</td>\n      <td>0.031</td>\n      <td>0.036</td>\n      <td>0.028</td>\n      <td>0.030</td>\n      <td>0.029</td>\n      <td>0.034</td>\n      <td>0.032</td>\n      <td>0.028</td>\n      <td>211.500</td>\n    </tr>\n    <tr>\n      <th>max</th>\n      <td>0.111</td>\n      <td>0.051</td>\n      <td>0.171</td>\n      <td>0.132</td>\n      <td>0.154</td>\n      <td>0.199</td>\n      <td>0.181</td>\n      <td>0.185</td>\n      <td>0.134</td>\n      <td>0.136</td>\n      <td>346.000</td>\n    </tr>\n  </tbody>\n</table>\n</div>"
     },
     "execution_count": 7,
     "metadata": {},
     "output_type": "execute_result"
    }
   ],
   "source": [
    "np.round(data.frame.describe(),3)"
   ]
  },
  {
   "cell_type": "code",
   "execution_count": 8,
   "id": "5b3e48c5",
   "metadata": {
    "ExecuteTime": {
     "end_time": "2024-02-02T17:46:18.183205Z",
     "start_time": "2024-02-02T17:46:17.875316Z"
    }
   },
   "outputs": [
    {
     "data": {
      "text/plain": "<Figure size 640x480 with 1 Axes>",
      "image/png": "[encoded data removed]"
     },
     "metadata": {},
     "output_type": "display_data"
    }
   ],
   "source": [
    "# plot a histogram to visualize the distribution of the \"target\" value\n",
    "plt.hist(data.frame['target'], rwidth=0.9)\n",
    "plt.title(\"Target value distribution\")\n",
    "plt.xlabel(\"target value\")\n",
    "plt.ylabel(\"#samples\");"
   ]
  },
  {
   "cell_type": "markdown",
   "id": "e0964e70",
   "metadata": {},
   "source": [
    "### Prepare data for model training and testing"
   ]
  },
  {
   "cell_type": "code",
   "execution_count": 9,
   "id": "73f1b21f",
   "metadata": {
    "ExecuteTime": {
     "end_time": "2024-02-02T17:46:51.319689Z",
     "start_time": "2024-02-02T17:46:51.311010Z"
    }
   },
   "outputs": [],
   "source": [
    "# Split the data into 70% training and 30% testing\n",
    "# Documentation: https://scikit-learn.org/stable/modules/generated/sklearn.model_selection.train_test_split.html\n",
    "# Remember to set random_state to control for the randomness\n",
    "\n",
    "X_train, X_test, y_train, y_test = train_test_split(data.data, data.target, test_size=0.3, random_state=42)"
   ]
  },
  {
   "cell_type": "code",
   "execution_count": 10,
   "id": "5172c982",
   "metadata": {
    "ExecuteTime": {
     "end_time": "2024-02-02T17:46:54.046405Z",
     "start_time": "2024-02-02T17:46:54.032845Z"
    }
   },
   "outputs": [
    {
     "data": {
      "text/plain": "((309, 10), (133, 10))"
     },
     "execution_count": 10,
     "metadata": {},
     "output_type": "execute_result"
    }
   ],
   "source": [
    "# check feature matrix\n",
    "X_train.shape, X_test.shape"
   ]
  },
  {
   "cell_type": "markdown",
   "id": "a796cd9b",
   "metadata": {},
   "source": [
    "### Fit the linear regression model on the training set and evaluate model performance on the testing set \n",
    "> Documentation: https://scikit-learn.org/stable/modules/generated/sklearn.linear_model.LinearRegression.html"
   ]
  },
  {
   "cell_type": "code",
   "execution_count": 16,
   "id": "3ca436c7",
   "metadata": {
    "ExecuteTime": {
     "end_time": "2024-02-02T19:34:41.884185Z",
     "start_time": "2024-02-02T19:34:41.872179Z"
    }
   },
   "outputs": [
    {
     "data": {
      "text/plain": "0.477"
     },
     "execution_count": 16,
     "metadata": {},
     "output_type": "execute_result"
    }
   ],
   "source": [
    "reg = LinearRegression() # check the documentation to understand the default parameters\n",
    "reg.fit(X_train, y_train)\n",
    "reg_score = reg.score(X_test, y_test)\n",
    "np.round(reg_score,3)"
   ]
  },
  {
   "cell_type": "markdown",
   "id": "92373e7b",
   "metadata": {},
   "source": [
    "**Interpret model coefficients and intercept**"
   ]
  },
  {
   "cell_type": "code",
   "execution_count": 12,
   "id": "9f93ce14",
   "metadata": {
    "ExecuteTime": {
     "end_time": "2024-02-02T17:50:08.065039Z",
     "start_time": "2024-02-02T17:50:08.052880Z"
    }
   },
   "outputs": [
    {
     "data": {
      "text/plain": "array([  29.254, -261.706,  546.3  ,  388.398, -901.96 ,  506.763,\n        121.154,  288.035,  659.269,   41.377])"
     },
     "execution_count": 12,
     "metadata": {},
     "output_type": "execute_result"
    }
   ],
   "source": [
    "np.round(reg.coef_,3)"
   ]
  },
  {
   "cell_type": "code",
   "execution_count": 13,
   "id": "f66d6311",
   "metadata": {
    "ExecuteTime": {
     "end_time": "2024-02-02T17:50:11.899688Z",
     "start_time": "2024-02-02T17:50:11.887633Z"
    }
   },
   "outputs": [
    {
     "data": {
      "text/plain": "151.008"
     },
     "execution_count": 13,
     "metadata": {},
     "output_type": "execute_result"
    }
   ],
   "source": [
    "np.round(reg.intercept_,3)"
   ]
  },
  {
   "cell_type": "markdown",
   "id": "91a97b88",
   "metadata": {},
   "source": [
    "**Your task**: write down the linear regression model with the above coefficients and intercept"
   ]
  },
  {
   "cell_type": "code",
   "execution_count": null,
   "id": "e6a435a7",
   "metadata": {},
   "outputs": [],
   "source": [
    "\"\"\"\n",
    "target = 29.254 * age - 261.706 * sex + 546.300 * bmi + 388.398 * bp - 901.960 * s1 + 506.763 * s2 + 121.154 * s3 + 288.035 * s4 + 659.269 * s5 + 41.377 * s6 + 151.008\n",
    "\"\"\""
   ]
  },
  {
   "cell_type": "markdown",
   "id": "8baf4c48",
   "metadata": {},
   "source": [
    "**Your task**: explore other parameters/attributes/methods\n",
    "- fit_intercept\n",
    "- feature_names_in_, n_features_in_\n",
    "Write your exploration code and results below"
   ]
  },
  {
   "cell_type": "code",
   "execution_count": 15,
   "id": "13242258",
   "metadata": {
    "ExecuteTime": {
     "end_time": "2024-02-02T19:34:37.519880Z",
     "start_time": "2024-02-02T19:34:37.501158Z"
    }
   },
   "outputs": [
    {
     "name": "stdout",
     "output_type": "stream",
     "text": [
      "True: 0.477\n",
      "False: -4.102\n"
     ]
    }
   ],
   "source": [
    "fit_intercept_values = [True, False]\n",
    "\n",
    "for fit_intercept in fit_intercept_values:\n",
    "    reg1 = LinearRegression(fit_intercept=fit_intercept)\n",
    "    reg1.fit(X_train, y_train)\n",
    "    score = reg1.score(X_test, y_test)\n",
    "    print('{}: {:.3f}'.format(fit_intercept, score))"
   ]
  },
  {
   "cell_type": "markdown",
   "source": [
    "If intercept is not considered, the performance of the model is worse."
   ],
   "metadata": {
    "collapsed": false
   },
   "id": "e7aba431a731f06e"
  },
  {
   "cell_type": "code",
   "execution_count": 17,
   "outputs": [
    {
     "data": {
      "text/plain": "array(['age', 'sex', 'bmi', 'bp', 's1', 's2', 's3', 's4', 's5', 's6'],\n      dtype=object)"
     },
     "execution_count": 17,
     "metadata": {},
     "output_type": "execute_result"
    }
   ],
   "source": [
    "reg.feature_names_in_"
   ],
   "metadata": {
    "collapsed": false,
    "ExecuteTime": {
     "end_time": "2024-02-02T19:35:11.545642Z",
     "start_time": "2024-02-02T19:35:11.535151Z"
    }
   },
   "id": "3a7e1359772cbb0a"
  },
  {
   "cell_type": "markdown",
   "source": [
    "feature_names_in_ attribute shows the names of features in the model."
   ],
   "metadata": {
    "collapsed": false
   },
   "id": "a83b42d261f37c6c"
  },
  {
   "cell_type": "code",
   "execution_count": 18,
   "outputs": [
    {
     "data": {
      "text/plain": "10"
     },
     "execution_count": 18,
     "metadata": {},
     "output_type": "execute_result"
    }
   ],
   "source": [
    "reg.n_features_in_"
   ],
   "metadata": {
    "collapsed": false,
    "ExecuteTime": {
     "end_time": "2024-02-02T19:36:25.386482Z",
     "start_time": "2024-02-02T19:36:25.364779Z"
    }
   },
   "id": "d37c91ef9d2bb64"
  },
  {
   "cell_type": "markdown",
   "source": [
    "n_features_in_ attribute shows the number of features."
   ],
   "metadata": {
    "collapsed": false
   },
   "id": "1d8a124e6fdacd37"
  },
  {
   "cell_type": "markdown",
   "id": "fc280db1",
   "metadata": {},
   "source": [
    "### Fit and evaluate a Ridge regression model (with the same train/test data)\n",
    "> Documentation: https://scikit-learn.org/stable/modules/generated/sklearn.linear_model.Ridge.html"
   ]
  },
  {
   "cell_type": "code",
   "execution_count": 19,
   "id": "71a8d3a3",
   "metadata": {
    "ExecuteTime": {
     "end_time": "2024-02-02T19:37:33.135550Z",
     "start_time": "2024-02-02T19:37:33.129483Z"
    }
   },
   "outputs": [
    {
     "data": {
      "text/plain": "0.423"
     },
     "execution_count": 19,
     "metadata": {},
     "output_type": "execute_result"
    }
   ],
   "source": [
    "rg_reg = Ridge()\n",
    "rg_reg.fit(X_train, y_train)\n",
    "rg_reg_score = rg_reg.score(X_test, y_test)\n",
    "np.round(rg_reg_score,3)"
   ]
  },
  {
   "cell_type": "code",
   "execution_count": 20,
   "id": "3c783ca4",
   "metadata": {
    "ExecuteTime": {
     "end_time": "2024-02-02T19:37:34.835766Z",
     "start_time": "2024-02-02T19:37:34.818385Z"
    }
   },
   "outputs": [
    {
     "data": {
      "text/plain": "array([  45.054,  -71.947,  280.716,  195.213,   -2.229,  -17.541,\n       -148.689,  120.467,  198.614,  106.935])"
     },
     "execution_count": 20,
     "metadata": {},
     "output_type": "execute_result"
    }
   ],
   "source": [
    "np.round(rg_reg.coef_,3)"
   ]
  },
  {
   "cell_type": "code",
   "execution_count": 21,
   "id": "a4deaa4e",
   "metadata": {
    "ExecuteTime": {
     "end_time": "2024-02-02T19:37:36.992965Z",
     "start_time": "2024-02-02T19:37:36.981276Z"
    }
   },
   "outputs": [
    {
     "data": {
      "text/plain": "151.867"
     },
     "execution_count": 21,
     "metadata": {},
     "output_type": "execute_result"
    }
   ],
   "source": [
    "np.round(rg_reg.intercept_,3)"
   ]
  },
  {
   "cell_type": "markdown",
   "id": "39b58d2f",
   "metadata": {},
   "source": [
    "### Your task: fit and evaluate a Lasso regression model (with the same train/test data)\n",
    "> Documentation: https://scikit-learn.org/stable/modules/generated/sklearn.linear_model.Lasso.html"
   ]
  },
  {
   "cell_type": "code",
   "execution_count": 22,
   "id": "1c416398",
   "metadata": {
    "ExecuteTime": {
     "end_time": "2024-02-02T19:38:28.973273Z",
     "start_time": "2024-02-02T19:38:28.958393Z"
    }
   },
   "outputs": [
    {
     "data": {
      "text/plain": "Lasso()",
      "text/html": "<style>#sk-container-id-1 {color: black;}#sk-container-id-1 pre{padding: 0;}#sk-container-id-1 div.sk-toggleable {background-color: white;}#sk-container-id-1 label.sk-toggleable__label {cursor: pointer;display: block;width: 100%;margin-bottom: 0;padding: 0.3em;box-sizing: border-box;text-align: center;}#sk-container-id-1 label.sk-toggleable__label-arrow:before {content: \"▸\";float: left;margin-right: 0.25em;color: #696969;}#sk-container-id-1 label.sk-toggleable__label-arrow:hover:before {color: black;}#sk-container-id-1 div.sk-estimator:hover label.sk-toggleable__label-arrow:before {color: black;}#sk-container-id-1 div.sk-toggleable__content {max-height: 0;max-width: 0;overflow: hidden;text-align: left;background-color: #f0f8ff;}#sk-container-id-1 div.sk-toggleable__content pre {margin: 0.2em;color: black;border-radius: 0.25em;background-color: #f0f8ff;}#sk-container-id-1 input.sk-toggleable__control:checked~div.sk-toggleable__content {max-height: 200px;max-width: 100%;overflow: auto;}#sk-container-id-1 input.sk-toggleable__control:checked~label.sk-toggleable__label-arrow:before {content: \"▾\";}#sk-container-id-1 div.sk-estimator input.sk-toggleable__control:checked~label.sk-toggleable__label {background-color: #d4ebff;}#sk-container-id-1 div.sk-label input.sk-toggleable__control:checked~label.sk-toggleable__label {background-color: #d4ebff;}#sk-container-id-1 input.sk-hidden--visually {border: 0;clip: rect(1px 1px 1px 1px);clip: rect(1px, 1px, 1px, 1px);height: 1px;margin: -1px;overflow: hidden;padding: 0;position: absolute;width: 1px;}#sk-container-id-1 div.sk-estimator {font-family: monospace;background-color: #f0f8ff;border: 1px dotted black;border-radius: 0.25em;box-sizing: border-box;margin-bottom: 0.5em;}#sk-container-id-1 div.sk-estimator:hover {background-color: #d4ebff;}#sk-container-id-1 div.sk-parallel-item::after {content: \"\";width: 100%;border-bottom: 1px solid gray;flex-grow: 1;}#sk-container-id-1 div.sk-label:hover label.sk-toggleable__label {background-color: #d4ebff;}#sk-container-id-1 div.sk-serial::before {content: \"\";position: absolute;border-left: 1px solid gray;box-sizing: border-box;top: 0;bottom: 0;left: 50%;z-index: 0;}#sk-container-id-1 div.sk-serial {display: flex;flex-direction: column;align-items: center;background-color: white;padding-right: 0.2em;padding-left: 0.2em;position: relative;}#sk-container-id-1 div.sk-item {position: relative;z-index: 1;}#sk-container-id-1 div.sk-parallel {display: flex;align-items: stretch;justify-content: center;background-color: white;position: relative;}#sk-container-id-1 div.sk-item::before, #sk-container-id-1 div.sk-parallel-item::before {content: \"\";position: absolute;border-left: 1px solid gray;box-sizing: border-box;top: 0;bottom: 0;left: 50%;z-index: -1;}#sk-container-id-1 div.sk-parallel-item {display: flex;flex-direction: column;z-index: 1;position: relative;background-color: white;}#sk-container-id-1 div.sk-parallel-item:first-child::after {align-self: flex-end;width: 50%;}#sk-container-id-1 div.sk-parallel-item:last-child::after {align-self: flex-start;width: 50%;}#sk-container-id-1 div.sk-parallel-item:only-child::after {width: 0;}#sk-container-id-1 div.sk-dashed-wrapped {border: 1px dashed gray;margin: 0 0.4em 0.5em 0.4em;box-sizing: border-box;padding-bottom: 0.4em;background-color: white;}#sk-container-id-1 div.sk-label label {font-family: monospace;font-weight: bold;display: inline-block;line-height: 1.2em;}#sk-container-id-1 div.sk-label-container {text-align: center;}#sk-container-id-1 div.sk-container {/* jupyter's `normalize.less` sets `[hidden] { display: none; }` but bootstrap.min.css set `[hidden] { display: none !important; }` so we also need the `!important` here to be able to override the default hidden behavior on the sphinx rendered scikit-learn.org. See: https://github.com/scikit-learn/scikit-learn/issues/21755 */display: inline-block !important;position: relative;}#sk-container-id-1 div.sk-text-repr-fallback {display: none;}</style><div id=\"sk-container-id-1\" class=\"sk-top-container\"><div class=\"sk-text-repr-fallback\"><pre>Lasso()</pre><b>In a Jupyter environment, please rerun this cell to show the HTML representation or trust the notebook. <br />On GitHub, the HTML representation is unable to render, please try loading this page with nbviewer.org.</b></div><div class=\"sk-container\" hidden><div class=\"sk-item\"><div class=\"sk-estimator sk-toggleable\"><input class=\"sk-toggleable__control sk-hidden--visually\" id=\"sk-estimator-id-1\" type=\"checkbox\" checked><label for=\"sk-estimator-id-1\" class=\"sk-toggleable__label sk-toggleable__label-arrow\">Lasso</label><div class=\"sk-toggleable__content\"><pre>Lasso()</pre></div></div></div></div></div>"
     },
     "execution_count": 22,
     "metadata": {},
     "output_type": "execute_result"
    }
   ],
   "source": [
    "# Fit model\n",
    "ls_reg = Lasso()\n",
    "ls_reg.fit(X_train, y_train)"
   ]
  },
  {
   "cell_type": "code",
   "execution_count": 23,
   "id": "71c90cb7",
   "metadata": {
    "ExecuteTime": {
     "end_time": "2024-02-02T19:38:34.936169Z",
     "start_time": "2024-02-02T19:38:34.931247Z"
    }
   },
   "outputs": [
    {
     "data": {
      "text/plain": "0.362"
     },
     "execution_count": 23,
     "metadata": {},
     "output_type": "execute_result"
    }
   ],
   "source": [
    "# Evaluate model performance\n",
    "ls_reg_score = ls_reg.score(X_test, y_test)\n",
    "np.round(ls_reg_score,3)"
   ]
  },
  {
   "cell_type": "code",
   "execution_count": 24,
   "id": "2c5dea51",
   "metadata": {
    "ExecuteTime": {
     "end_time": "2024-02-02T19:38:51.515191Z",
     "start_time": "2024-02-02T19:38:51.505679Z"
    }
   },
   "outputs": [
    {
     "data": {
      "text/plain": "array([  0.   ,  -0.   , 443.703,  51.601,   0.   ,   0.   ,  -0.   ,\n         0.   , 201.966,   0.   ])"
     },
     "execution_count": 24,
     "metadata": {},
     "output_type": "execute_result"
    }
   ],
   "source": [
    "# Interpret model coefficients and intercept\n",
    "np.round(ls_reg.coef_,3)"
   ]
  },
  {
   "cell_type": "code",
   "execution_count": 25,
   "outputs": [
    {
     "data": {
      "text/plain": "152.166"
     },
     "execution_count": 25,
     "metadata": {},
     "output_type": "execute_result"
    }
   ],
   "source": [
    "np.round(ls_reg.intercept_,3)"
   ],
   "metadata": {
    "collapsed": false,
    "ExecuteTime": {
     "end_time": "2024-02-02T19:39:36.606659Z",
     "start_time": "2024-02-02T19:39:36.587160Z"
    }
   },
   "id": "ec2df15aa87b9954"
  },
  {
   "cell_type": "markdown",
   "id": "c950962e",
   "metadata": {},
   "source": [
    "### Your task: compare the linear/ridge/lasso regression models\n",
    "- write down your code to create and display the given dataframe"
   ]
  },
  {
   "cell_type": "code",
   "execution_count": 35,
   "id": "92e90c64",
   "metadata": {
    "ExecuteTime": {
     "end_time": "2024-02-02T19:50:41.449362Z",
     "start_time": "2024-02-02T19:50:41.427533Z"
    }
   },
   "outputs": [
    {
     "data": {
      "text/plain": "            linear    ridge    lasso\nage         29.254   45.054    0.000\nsex       -261.706  -71.947   -0.000\nbmi        546.300  280.716  443.703\nbp         388.398  195.213   51.601\ns1        -901.960   -2.229    0.000\ns2         506.763  -17.541    0.000\ns3         121.154 -148.689   -0.000\ns4         288.035  120.467    0.000\ns5         659.269  198.614  201.966\ns6          41.377  106.935    0.000\nintercept  151.008  151.867  152.166\nscore        0.477    0.423    0.362",
      "text/html": "<div>\n<style scoped>\n    .dataframe tbody tr th:only-of-type {\n        vertical-align: middle;\n    }\n\n    .dataframe tbody tr th {\n        vertical-align: top;\n    }\n\n    .dataframe thead th {\n        text-align: right;\n    }\n</style>\n<table border=\"1\" class=\"dataframe\">\n  <thead>\n    <tr style=\"text-align: right;\">\n      <th></th>\n      <th>linear</th>\n      <th>ridge</th>\n      <th>lasso</th>\n    </tr>\n  </thead>\n  <tbody>\n    <tr>\n      <th>age</th>\n      <td>29.254</td>\n      <td>45.054</td>\n      <td>0.000</td>\n    </tr>\n    <tr>\n      <th>sex</th>\n      <td>-261.706</td>\n      <td>-71.947</td>\n      <td>-0.000</td>\n    </tr>\n    <tr>\n      <th>bmi</th>\n      <td>546.300</td>\n      <td>280.716</td>\n      <td>443.703</td>\n    </tr>\n    <tr>\n      <th>bp</th>\n      <td>388.398</td>\n      <td>195.213</td>\n      <td>51.601</td>\n    </tr>\n    <tr>\n      <th>s1</th>\n      <td>-901.960</td>\n      <td>-2.229</td>\n      <td>0.000</td>\n    </tr>\n    <tr>\n      <th>s2</th>\n      <td>506.763</td>\n      <td>-17.541</td>\n      <td>0.000</td>\n    </tr>\n    <tr>\n      <th>s3</th>\n      <td>121.154</td>\n      <td>-148.689</td>\n      <td>-0.000</td>\n    </tr>\n    <tr>\n      <th>s4</th>\n      <td>288.035</td>\n      <td>120.467</td>\n      <td>0.000</td>\n    </tr>\n    <tr>\n      <th>s5</th>\n      <td>659.269</td>\n      <td>198.614</td>\n      <td>201.966</td>\n    </tr>\n    <tr>\n      <th>s6</th>\n      <td>41.377</td>\n      <td>106.935</td>\n      <td>0.000</td>\n    </tr>\n    <tr>\n      <th>intercept</th>\n      <td>151.008</td>\n      <td>151.867</td>\n      <td>152.166</td>\n    </tr>\n    <tr>\n      <th>score</th>\n      <td>0.477</td>\n      <td>0.423</td>\n      <td>0.362</td>\n    </tr>\n  </tbody>\n</table>\n</div>"
     },
     "execution_count": 35,
     "metadata": {},
     "output_type": "execute_result"
    }
   ],
   "source": [
    "# hint: the following dataframe shows the expected way to organize and display the information\n",
    "# make sure to: \n",
    "# - round to 3 digits after the decimal point\n",
    "# - rename the column names \n",
    "# - include intercept and score in the last two rows\n",
    "df = pd.DataFrame({'linear': np.round(reg.coef_,3),\n",
    "                   'ridge': np.round(rg_reg.coef_,3),\n",
    "                   'lasso': np.round(ls_reg.coef_,3)})\n",
    "df.rename(index=dict(enumerate(data.feature_names)), inplace=True)\n",
    "df.loc['intercept'] = [np.round(reg.intercept_,3), np.round(rg_reg.intercept_,3), np.round(ls_reg.intercept_,3)]\n",
    "df.loc['score'] = [np.round(reg_score,3), np.round(rg_reg_score,3), np.round(ls_reg_score,3)]\n",
    "df"
   ]
  },
  {
   "cell_type": "markdown",
   "id": "a2d7e638",
   "metadata": {},
   "source": [
    "**Your observations and thoughts of comparing the three models**\n",
    "- hint: connect this with what we discussed in the lectures, e.g.\n",
    "    - how does regularization affect coefficients and model performance \n",
    "    - what is the difference between ridge (L2 penalty) and Lasso (L1 penalty) "
   ]
  },
  {
   "cell_type": "code",
   "execution_count": null,
   "id": "eadf9ec3",
   "metadata": {},
   "outputs": [],
   "source": [
    "'''\n",
    "The regularization affects the model performance negatively, however, the coefficients decrease.\n",
    "For L1 penalty, some relatively small coefficients are reduced to zero.\n",
    "For L2 penalty, relatively bigger coefficients are reduced more severely.\n",
    "'''"
   ]
  },
  {
   "cell_type": "markdown",
   "id": "7cca80a6",
   "metadata": {},
   "source": [
    "## Polynomial regression\n",
    "- Use the diabetes data with the same train and test set to fit several **Polynomial regression** models \n",
    "- documentation: https://scikit-learn.org/stable/modules/generated/sklearn.preprocessing.PolynomialFeatures.html"
   ]
  },
  {
   "cell_type": "markdown",
   "id": "61aaa8fc",
   "metadata": {},
   "source": [
    "### Fit a polynomail regression model with degree=2"
   ]
  },
  {
   "cell_type": "code",
   "execution_count": 36,
   "id": "5c660e65",
   "metadata": {
    "ExecuteTime": {
     "end_time": "2024-02-02T19:57:48.374669Z",
     "start_time": "2024-02-02T19:57:48.351599Z"
    }
   },
   "outputs": [
    {
     "data": {
      "text/plain": "(309, 66)"
     },
     "execution_count": 36,
     "metadata": {},
     "output_type": "execute_result"
    }
   ],
   "source": [
    "# generate the new polynomial feature matrix for the training data \n",
    "# \"fit_transform\" on the original training data\n",
    "\n",
    "poly2 = PolynomialFeatures(2)\n",
    "X_train_poly2 = poly2.fit_transform(X_train)\n",
    "X_train_poly2.shape"
   ]
  },
  {
   "cell_type": "code",
   "execution_count": 37,
   "id": "da88debb",
   "metadata": {
    "ExecuteTime": {
     "end_time": "2024-02-02T19:57:50.956385Z",
     "start_time": "2024-02-02T19:57:50.945381Z"
    }
   },
   "outputs": [
    {
     "data": {
      "text/plain": "(133, 66)"
     },
     "execution_count": 37,
     "metadata": {},
     "output_type": "execute_result"
    }
   ],
   "source": [
    "# generate the new polynomial feature matrix for the testing data \n",
    "# only do \"transform\" on the original testing feature matrix\n",
    "# why do we do \"fit_transform\" on training data but only do \"transform\" on testing data?\n",
    "\n",
    "X_test_poly2 = poly2.transform(X_test)\n",
    "X_test_poly2.shape"
   ]
  },
  {
   "cell_type": "code",
   "execution_count": 38,
   "id": "de488def",
   "metadata": {
    "ExecuteTime": {
     "end_time": "2024-02-02T20:00:39.457437Z",
     "start_time": "2024-02-02T20:00:39.401771Z"
    }
   },
   "outputs": [
    {
     "data": {
      "text/plain": "0.413"
     },
     "execution_count": 38,
     "metadata": {},
     "output_type": "execute_result"
    }
   ],
   "source": [
    "# fit a regression model with the newly generated polynomial feature matrix \n",
    "# evaluate model performance \n",
    "\n",
    "poly2_reg = LinearRegression()\n",
    "poly2_reg.fit(X_train_poly2, y_train)\n",
    "poly2_score = poly2_reg.score(X_test_poly2, y_test)\n",
    "np.round(poly2_score,3)"
   ]
  },
  {
   "cell_type": "markdown",
   "id": "72079596",
   "metadata": {},
   "source": [
    "### Your task: fit a polynomail regression model with degree=1\n",
    "- Follow the previous steps of fitting a polynomial regression model with degree=2 to **fit a new model with degree=1** (name it as $poly1\\_reg$)"
   ]
  },
  {
   "cell_type": "code",
   "execution_count": 39,
   "id": "e53f151c",
   "metadata": {
    "ExecuteTime": {
     "end_time": "2024-02-02T20:01:22.114141Z",
     "start_time": "2024-02-02T20:01:22.084042Z"
    }
   },
   "outputs": [
    {
     "data": {
      "text/plain": "(309, 11)"
     },
     "execution_count": 39,
     "metadata": {},
     "output_type": "execute_result"
    }
   ],
   "source": [
    "poly1 = PolynomialFeatures(1)\n",
    "X_train_poly1 = poly1.fit_transform(X_train)\n",
    "X_train_poly1.shape"
   ]
  },
  {
   "cell_type": "code",
   "execution_count": 40,
   "id": "794b0562",
   "metadata": {
    "ExecuteTime": {
     "end_time": "2024-02-02T20:01:39.197948Z",
     "start_time": "2024-02-02T20:01:39.185744Z"
    }
   },
   "outputs": [
    {
     "data": {
      "text/plain": "(133, 11)"
     },
     "execution_count": 40,
     "metadata": {},
     "output_type": "execute_result"
    }
   ],
   "source": [
    "X_test_poly1 = poly1.transform(X_test)\n",
    "X_test_poly1.shape"
   ]
  },
  {
   "cell_type": "code",
   "execution_count": 41,
   "id": "3f9e86ce",
   "metadata": {
    "ExecuteTime": {
     "end_time": "2024-02-02T20:03:04.654508Z",
     "start_time": "2024-02-02T20:03:04.609855Z"
    }
   },
   "outputs": [
    {
     "data": {
      "text/plain": "0.477"
     },
     "execution_count": 41,
     "metadata": {},
     "output_type": "execute_result"
    }
   ],
   "source": [
    "poly1_reg = LinearRegression()\n",
    "poly1_reg.fit(X_train_poly1, y_train)\n",
    "poly1_score = poly1_reg.score(X_test_poly1, y_test)\n",
    "np.round(poly1_score,3)"
   ]
  },
  {
   "cell_type": "markdown",
   "id": "ae2b9642",
   "metadata": {},
   "source": [
    "### Your task: fit a polynomail regression model with degree=3\n",
    "- Follow the previous steps of fitting a polynomial regression model with degree=2 to **fit a new model with degree=3** (name it as $poly3\\_reg$)"
   ]
  },
  {
   "cell_type": "code",
   "execution_count": 57,
   "id": "8760be74",
   "metadata": {
    "ExecuteTime": {
     "end_time": "2024-02-02T20:39:41.035350Z",
     "start_time": "2024-02-02T20:39:41.022256Z"
    }
   },
   "outputs": [
    {
     "data": {
      "text/plain": "(309, 286)"
     },
     "execution_count": 57,
     "metadata": {},
     "output_type": "execute_result"
    }
   ],
   "source": [
    "poly3 = PolynomialFeatures(3)\n",
    "X_train_poly3 = poly3.fit_transform(X_train)\n",
    "X_train_poly3.shape"
   ]
  },
  {
   "cell_type": "code",
   "execution_count": 58,
   "id": "8c0b9490",
   "metadata": {
    "ExecuteTime": {
     "end_time": "2024-02-02T20:39:42.585661Z",
     "start_time": "2024-02-02T20:39:42.566300Z"
    }
   },
   "outputs": [
    {
     "data": {
      "text/plain": "(133, 286)"
     },
     "execution_count": 58,
     "metadata": {},
     "output_type": "execute_result"
    }
   ],
   "source": [
    "X_test_poly3 = poly3.transform(X_test)\n",
    "X_test_poly3.shape"
   ]
  },
  {
   "cell_type": "code",
   "execution_count": 59,
   "id": "d29a3915",
   "metadata": {
    "ExecuteTime": {
     "end_time": "2024-02-02T20:39:44.697375Z",
     "start_time": "2024-02-02T20:39:44.306974Z"
    }
   },
   "outputs": [
    {
     "data": {
      "text/plain": "-92.583"
     },
     "execution_count": 59,
     "metadata": {},
     "output_type": "execute_result"
    }
   ],
   "source": [
    "poly3_reg = LinearRegression()\n",
    "poly3_reg.fit(X_train_poly3, y_train)\n",
    "poly3_score = poly3_reg.score(X_test_poly3, y_test)\n",
    "np.round(poly3_score,3)"
   ]
  },
  {
   "cell_type": "markdown",
   "id": "efc159ab",
   "metadata": {},
   "source": [
    "### Your task: compare the polynomial regression models with degree=1/2/3 and the original linear regression model\n",
    "- please write code to create and display the given data frame"
   ]
  },
  {
   "cell_type": "code",
   "execution_count": 64,
   "id": "44f9e382",
   "metadata": {
    "ExecuteTime": {
     "end_time": "2024-02-02T20:41:18.774266Z",
     "start_time": "2024-02-02T20:41:18.751628Z"
    }
   },
   "outputs": [
    {
     "data": {
      "text/plain": "           linear  poly_d1  poly_d2               poly_d3\nintercept 151.008  151.008 -360.919 23716369348481188.000\nscore       0.477    0.477    0.413               -92.583",
      "text/html": "<div>\n<style scoped>\n    .dataframe tbody tr th:only-of-type {\n        vertical-align: middle;\n    }\n\n    .dataframe tbody tr th {\n        vertical-align: top;\n    }\n\n    .dataframe thead th {\n        text-align: right;\n    }\n</style>\n<table border=\"1\" class=\"dataframe\">\n  <thead>\n    <tr style=\"text-align: right;\">\n      <th></th>\n      <th>linear</th>\n      <th>poly_d1</th>\n      <th>poly_d2</th>\n      <th>poly_d3</th>\n    </tr>\n  </thead>\n  <tbody>\n    <tr>\n      <th>intercept</th>\n      <td>151.008</td>\n      <td>151.008</td>\n      <td>-360.919</td>\n      <td>23716369348481188.000</td>\n    </tr>\n    <tr>\n      <th>score</th>\n      <td>0.477</td>\n      <td>0.477</td>\n      <td>0.413</td>\n      <td>-92.583</td>\n    </tr>\n  </tbody>\n</table>\n</div>"
     },
     "execution_count": 64,
     "metadata": {},
     "output_type": "execute_result"
    }
   ],
   "source": [
    "df = pd.DataFrame(columns=['linear', 'poly_d1', 'poly_d2', 'poly_d3'])\n",
    "pd.set_option('display.float_format', '{:.3f}'.format)\n",
    "df.loc['intercept'] = [reg.intercept_, poly1_reg.intercept_, poly2_reg.intercept_, poly3_reg.intercept_]\n",
    "df.loc['score'] = [reg_score, poly1_score, poly2_score, poly3_score]\n",
    "df"
   ]
  },
  {
   "cell_type": "markdown",
   "id": "051b17b2",
   "metadata": {},
   "source": [
    "### Your task: observations and thoughts of comparing the above four models\n",
    "- hint: connect this with overfitting/underfitting we discussed in class"
   ]
  },
  {
   "cell_type": "code",
   "execution_count": null,
   "id": "7aba6518",
   "metadata": {},
   "outputs": [],
   "source": [
    "'''\n",
    "The rank 3 polynomial model is clear to be so overfitting the training set, that it performs so bad for the testing set.\n",
    "Rank that is too high also make it very hard to interpret the intercept.\n",
    "'''"
   ]
  },
  {
   "cell_type": "markdown",
   "id": "8e005bd8",
   "metadata": {},
   "source": [
    "### Your task: interpret the model performance wrt the task itself\n",
    "- how does each feature relate with diabetes\n",
    "- which factors contribute positively/negatively/most/least to diabetes\n",
    "- does these statistical correlations make sense from biological perspective? "
   ]
  },
  {
   "cell_type": "code",
   "execution_count": null,
   "id": "56641a54",
   "metadata": {},
   "outputs": [],
   "source": [
    "'''\n",
    "The sex and s1 (tc) contribute negatively to diabetes. The sex variable makes sense from biological perspective. However, the role of tc is rather harder to understand, as a higher tc often indicate a worse metabolic status.\n",
    "The other factors all contribute positively to diabetes, most of which make sense, except for the s3 (hdl), since a higher s3 usually indicates a better metabolic status.\n",
    "'''"
   ]
  },
  {
   "cell_type": "markdown",
   "id": "3ef82f53",
   "metadata": {},
   "source": [
    "## Linear models for classification: LogisticRegression \n",
    "In this section, we will work on a banknote authentication dataset:\n",
    "- Original data source: https://archive.ics.uci.edu/ml/datasets/banknote+authentication <br>\n",
    "\n",
    "This dataset contains n = 1372 images of genuine and forged banknote-like specimens. Each image is represented by four features extracted from Wavelet Transform tool: \n",
    "    1. variance (continuous) \n",
    "    2. skewness (continuous)\n",
    "    3. curtosis (continuous)\n",
    "    4. entropy of image (continuous)\n",
    "\n",
    "And each image has a binary label of 0/1 indicating whether the banknote is forged or genuine.\n",
    "\n",
    "We will fit several logistic regression models with different parameter settings to analyze this dataset: \n",
    "The steps include:\n",
    "1. Basic data exploration:\n",
    "    > what does the data look like (#samples, #features) <br>\n",
    "    > the feature matrix and description of each feature <br>\n",
    "    > the target values <br>\n",
    "    \n",
    "2. Prepare data for model training and testing <br>\n",
    "\n",
    "3. Fit different logistic regression models (vary by parameter settings) on the training set and evaluate model performance on the testing set <br>\n",
    "\n",
    "4. Compare and understand model performance through interpreting coefficients."
   ]
  },
  {
   "cell_type": "code",
   "execution_count": 65,
   "id": "574468b2",
   "metadata": {
    "ExecuteTime": {
     "end_time": "2024-02-02T20:57:03.223500Z",
     "start_time": "2024-02-02T20:57:03.196451Z"
    }
   },
   "outputs": [],
   "source": [
    "import pickle\n",
    "import numpy as np\n",
    "import pandas as pd\n",
    "from collections import Counter\n",
    "from sklearn.linear_model import LogisticRegression\n",
    "from sklearn.model_selection import train_test_split\n",
    "import matplotlib.pyplot as plt\n",
    "\n",
    "%matplotlib inline"
   ]
  },
  {
   "cell_type": "code",
   "execution_count": 66,
   "id": "cf817f24",
   "metadata": {
    "ExecuteTime": {
     "end_time": "2024-02-02T20:57:18.962837Z",
     "start_time": "2024-02-02T20:57:18.939114Z"
    }
   },
   "outputs": [],
   "source": [
    "# please change to your file path\n",
    "df_data = pickle.load(open('banknote_authentication_dataframe.pickle','rb'))"
   ]
  },
  {
   "cell_type": "markdown",
   "id": "1a442ec9",
   "metadata": {},
   "source": [
    "### Basic dataset exploration"
   ]
  },
  {
   "cell_type": "code",
   "execution_count": 67,
   "id": "a876742b",
   "metadata": {
    "ExecuteTime": {
     "end_time": "2024-02-02T21:01:24.233154Z",
     "start_time": "2024-02-02T21:01:24.220783Z"
    }
   },
   "outputs": [
    {
     "data": {
      "text/plain": "      variance  skewness  curtosis  entropy  class\n0        3.622     8.666    -2.807   -0.447  0.000\n1        4.546     8.167    -2.459   -1.462  0.000\n2        3.866    -2.638     1.924    0.106  0.000\n3        3.457     9.523    -4.011   -3.594  0.000\n4        0.329    -4.455     4.572   -0.989  0.000\n...        ...       ...       ...      ...    ...\n1367     0.406     1.349    -1.450   -0.559  1.000\n1368    -1.389    -4.877     6.477    0.342  1.000\n1369    -3.750   -13.459    17.593   -2.777  1.000\n1370    -3.564    -8.383    12.393   -1.282  1.000\n1371    -2.542    -0.658     2.684    1.195  1.000\n\n[1372 rows x 5 columns]",
      "text/html": "<div>\n<style scoped>\n    .dataframe tbody tr th:only-of-type {\n        vertical-align: middle;\n    }\n\n    .dataframe tbody tr th {\n        vertical-align: top;\n    }\n\n    .dataframe thead th {\n        text-align: right;\n    }\n</style>\n<table border=\"1\" class=\"dataframe\">\n  <thead>\n    <tr style=\"text-align: right;\">\n      <th></th>\n      <th>variance</th>\n      <th>skewness</th>\n      <th>curtosis</th>\n      <th>entropy</th>\n      <th>class</th>\n    </tr>\n  </thead>\n  <tbody>\n    <tr>\n      <th>0</th>\n      <td>3.622</td>\n      <td>8.666</td>\n      <td>-2.807</td>\n      <td>-0.447</td>\n      <td>0.000</td>\n    </tr>\n    <tr>\n      <th>1</th>\n      <td>4.546</td>\n      <td>8.167</td>\n      <td>-2.459</td>\n      <td>-1.462</td>\n      <td>0.000</td>\n    </tr>\n    <tr>\n      <th>2</th>\n      <td>3.866</td>\n      <td>-2.638</td>\n      <td>1.924</td>\n      <td>0.106</td>\n      <td>0.000</td>\n    </tr>\n    <tr>\n      <th>3</th>\n      <td>3.457</td>\n      <td>9.523</td>\n      <td>-4.011</td>\n      <td>-3.594</td>\n      <td>0.000</td>\n    </tr>\n    <tr>\n      <th>4</th>\n      <td>0.329</td>\n      <td>-4.455</td>\n      <td>4.572</td>\n      <td>-0.989</td>\n      <td>0.000</td>\n    </tr>\n    <tr>\n      <th>...</th>\n      <td>...</td>\n      <td>...</td>\n      <td>...</td>\n      <td>...</td>\n      <td>...</td>\n    </tr>\n    <tr>\n      <th>1367</th>\n      <td>0.406</td>\n      <td>1.349</td>\n      <td>-1.450</td>\n      <td>-0.559</td>\n      <td>1.000</td>\n    </tr>\n    <tr>\n      <th>1368</th>\n      <td>-1.389</td>\n      <td>-4.877</td>\n      <td>6.477</td>\n      <td>0.342</td>\n      <td>1.000</td>\n    </tr>\n    <tr>\n      <th>1369</th>\n      <td>-3.750</td>\n      <td>-13.459</td>\n      <td>17.593</td>\n      <td>-2.777</td>\n      <td>1.000</td>\n    </tr>\n    <tr>\n      <th>1370</th>\n      <td>-3.564</td>\n      <td>-8.383</td>\n      <td>12.393</td>\n      <td>-1.282</td>\n      <td>1.000</td>\n    </tr>\n    <tr>\n      <th>1371</th>\n      <td>-2.542</td>\n      <td>-0.658</td>\n      <td>2.684</td>\n      <td>1.195</td>\n      <td>1.000</td>\n    </tr>\n  </tbody>\n</table>\n<p>1372 rows × 5 columns</p>\n</div>"
     },
     "execution_count": 67,
     "metadata": {},
     "output_type": "execute_result"
    }
   ],
   "source": [
    "# display the dataset\n",
    "df_data"
   ]
  },
  {
   "cell_type": "code",
   "execution_count": 68,
   "id": "222a148c",
   "metadata": {
    "ExecuteTime": {
     "end_time": "2024-02-02T21:01:27.744698Z",
     "start_time": "2024-02-02T21:01:27.716013Z"
    }
   },
   "outputs": [
    {
     "data": {
      "text/plain": "       variance  skewness  curtosis  entropy    class\ncount  1372.000  1372.000  1372.000 1372.000 1372.000\nmean      0.434     1.922     1.398   -1.192    0.445\nstd       2.843     5.869     4.310    2.101    0.497\nmin      -7.042   -13.773    -5.286   -8.548    0.000\n25%      -1.773    -1.708    -1.575   -2.413    0.000\n50%       0.496     2.320     0.617   -0.587    0.000\n75%       2.821     6.815     3.179    0.395    1.000\nmax       6.825    12.952    17.927    2.450    1.000",
      "text/html": "<div>\n<style scoped>\n    .dataframe tbody tr th:only-of-type {\n        vertical-align: middle;\n    }\n\n    .dataframe tbody tr th {\n        vertical-align: top;\n    }\n\n    .dataframe thead th {\n        text-align: right;\n    }\n</style>\n<table border=\"1\" class=\"dataframe\">\n  <thead>\n    <tr style=\"text-align: right;\">\n      <th></th>\n      <th>variance</th>\n      <th>skewness</th>\n      <th>curtosis</th>\n      <th>entropy</th>\n      <th>class</th>\n    </tr>\n  </thead>\n  <tbody>\n    <tr>\n      <th>count</th>\n      <td>1372.000</td>\n      <td>1372.000</td>\n      <td>1372.000</td>\n      <td>1372.000</td>\n      <td>1372.000</td>\n    </tr>\n    <tr>\n      <th>mean</th>\n      <td>0.434</td>\n      <td>1.922</td>\n      <td>1.398</td>\n      <td>-1.192</td>\n      <td>0.445</td>\n    </tr>\n    <tr>\n      <th>std</th>\n      <td>2.843</td>\n      <td>5.869</td>\n      <td>4.310</td>\n      <td>2.101</td>\n      <td>0.497</td>\n    </tr>\n    <tr>\n      <th>min</th>\n      <td>-7.042</td>\n      <td>-13.773</td>\n      <td>-5.286</td>\n      <td>-8.548</td>\n      <td>0.000</td>\n    </tr>\n    <tr>\n      <th>25%</th>\n      <td>-1.773</td>\n      <td>-1.708</td>\n      <td>-1.575</td>\n      <td>-2.413</td>\n      <td>0.000</td>\n    </tr>\n    <tr>\n      <th>50%</th>\n      <td>0.496</td>\n      <td>2.320</td>\n      <td>0.617</td>\n      <td>-0.587</td>\n      <td>0.000</td>\n    </tr>\n    <tr>\n      <th>75%</th>\n      <td>2.821</td>\n      <td>6.815</td>\n      <td>3.179</td>\n      <td>0.395</td>\n      <td>1.000</td>\n    </tr>\n    <tr>\n      <th>max</th>\n      <td>6.825</td>\n      <td>12.952</td>\n      <td>17.927</td>\n      <td>2.450</td>\n      <td>1.000</td>\n    </tr>\n  </tbody>\n</table>\n</div>"
     },
     "execution_count": 68,
     "metadata": {},
     "output_type": "execute_result"
    }
   ],
   "source": [
    "# describe the data \n",
    "df_data.describe()"
   ]
  },
  {
   "cell_type": "markdown",
   "id": "0dcbafff",
   "metadata": {},
   "source": [
    "### Prepara data for model training and testing"
   ]
  },
  {
   "cell_type": "code",
   "execution_count": 69,
   "id": "1fbc714a",
   "metadata": {
    "ExecuteTime": {
     "end_time": "2024-02-02T21:05:21.857397Z",
     "start_time": "2024-02-02T21:05:21.821948Z"
    }
   },
   "outputs": [
    {
     "data": {
      "text/plain": "((1372, 4), (1372,), Counter({0.0: 762, 1.0: 610}))"
     },
     "execution_count": 69,
     "metadata": {},
     "output_type": "execute_result"
    }
   ],
   "source": [
    "feature_names = ['variance','skewness','curtosis','entropy']\n",
    "\n",
    "# Construct feature matrix from the data frame\n",
    "X_data = df_data[feature_names]\n",
    "y_data = df_data['class']\n",
    "X_data.shape, y_data.shape, Counter(y_data)"
   ]
  },
  {
   "cell_type": "code",
   "execution_count": 70,
   "id": "98dc3fbe",
   "metadata": {
    "ExecuteTime": {
     "end_time": "2024-02-02T21:05:24.071971Z",
     "start_time": "2024-02-02T21:05:24.054930Z"
    }
   },
   "outputs": [],
   "source": [
    "# split the data into 70% training and 30% testing using train_test_split()\n",
    "X_train, X_test, y_train, y_test = train_test_split(X_data, y_data, test_size=0.3, random_state=42)"
   ]
  },
  {
   "cell_type": "markdown",
   "id": "8d3bb9b2",
   "metadata": {},
   "source": [
    "### Fit LogisticRegression models with different parameter settings\n",
    "- L1 VS L2 penalty\n",
    "- C values (inverse of regularization strength)"
   ]
  },
  {
   "cell_type": "code",
   "execution_count": 90,
   "id": "2e206acf",
   "metadata": {
    "ExecuteTime": {
     "end_time": "2024-02-02T22:21:05.062186Z",
     "start_time": "2024-02-02T22:21:05.039587Z"
    }
   },
   "outputs": [],
   "source": [
    "clf = LogisticRegression(random_state=0, solver='liblinear', penalty='l1', C=1.0).fit(X_train, y_train)"
   ]
  },
  {
   "cell_type": "code",
   "execution_count": 72,
   "id": "cb8b57ed",
   "metadata": {
    "ExecuteTime": {
     "end_time": "2024-02-02T21:05:31.339193Z",
     "start_time": "2024-02-02T21:05:31.326178Z"
    }
   },
   "outputs": [
    {
     "data": {
      "text/plain": "0.9878640776699029"
     },
     "execution_count": 72,
     "metadata": {},
     "output_type": "execute_result"
    }
   ],
   "source": [
    "clf.score(X_test, y_test)"
   ]
  },
  {
   "cell_type": "code",
   "execution_count": 73,
   "id": "0baa21e8",
   "metadata": {
    "ExecuteTime": {
     "end_time": "2024-02-02T21:05:33.571805Z",
     "start_time": "2024-02-02T21:05:33.559223Z"
    }
   },
   "outputs": [
    {
     "data": {
      "text/plain": "array([0., 0., 0.])"
     },
     "execution_count": 73,
     "metadata": {},
     "output_type": "execute_result"
    }
   ],
   "source": [
    "clf.predict(X_test[:3])"
   ]
  },
  {
   "cell_type": "code",
   "execution_count": 74,
   "id": "2525662f",
   "metadata": {
    "ExecuteTime": {
     "end_time": "2024-02-02T21:05:38.566057Z",
     "start_time": "2024-02-02T21:05:38.554343Z"
    }
   },
   "outputs": [
    {
     "data": {
      "text/plain": "array([[1.   , 0.   ],\n       [0.982, 0.018],\n       [0.996, 0.004]])"
     },
     "execution_count": 74,
     "metadata": {},
     "output_type": "execute_result"
    }
   ],
   "source": [
    "np.round(clf.predict_proba(X_test[:3]),3)"
   ]
  },
  {
   "cell_type": "markdown",
   "id": "fc8ff19c",
   "metadata": {},
   "source": [
    "**Your task**: explore at least one different set of parameters to re-fit the model: solver, penalty, C"
   ]
  },
  {
   "cell_type": "code",
   "execution_count": 77,
   "id": "598e50e3",
   "metadata": {
    "ExecuteTime": {
     "end_time": "2024-02-02T21:39:50.429713Z",
     "start_time": "2024-02-02T21:39:50.398014Z"
    }
   },
   "outputs": [
    {
     "name": "stdout",
     "output_type": "stream",
     "text": [
      "l1: 0.988\n",
      "l2: 0.988\n"
     ]
    }
   ],
   "source": [
    "penalty_lst = ['l1', 'l2']\n",
    "\n",
    "for penalty in penalty_lst:\n",
    "    reg_p = LogisticRegression(random_state=0, solver='liblinear', penalty=penalty, C=1.0).fit(X_train, y_train)\n",
    "    score = reg_p.score(X_test, y_test)\n",
    "    print('{}: {:.3f}'.format(penalty, score))"
   ]
  },
  {
   "cell_type": "markdown",
   "source": [
    "the penalty parameter seems to have no significant influence on the model performance."
   ],
   "metadata": {
    "collapsed": false
   },
   "id": "70b35d414a9b9a2e"
  },
  {
   "cell_type": "markdown",
   "id": "16c5d0d1",
   "metadata": {},
   "source": [
    "### Compare model performance with different c values and different penalties"
   ]
  },
  {
   "cell_type": "code",
   "execution_count": 87,
   "id": "9160ab01",
   "metadata": {
    "ExecuteTime": {
     "end_time": "2024-02-02T22:15:07.261493Z",
     "start_time": "2024-02-02T22:15:07.248132Z"
    }
   },
   "outputs": [],
   "source": [
    "def compare_c(X_train, y_train, X_test, y_test, p):\n",
    "    \"\"\"\n",
    "    X_train/test: 2D feature matrix of training/testing data\n",
    "    y_train/test: 1D array of training/testing labels\n",
    "    p: the penalty parameter setting in LogisticRegression\n",
    "    \n",
    "    return: \n",
    "        a list of classifiers fitted with different c values\n",
    "        a dataframe that is shown in the running example below\n",
    "    \"\"\"\n",
    "     \n",
    "    # set the model parameter c to different values and train the model \n",
    "    # for c in [0.001, 0.01, 0.1, 1, 10, 100]:\n",
    "    #    fit a LogisticRegression model with: the current c value, the given penalty p, set random_state=42, max_iter=1000, solver='liblinear', and use default setting for other parameters\n",
    "    #    test and record the model performance \n",
    "    #    get the statistical information about the model coefficients: \n",
    "    #        min: minimum coefficient\n",
    "    #        max: minimum coefficient\n",
    "    #        mean(abs(coef)): average over the absolute coefficient values\n",
    "    #        n_zero: number of coefficients equal to zero \n",
    "    \n",
    "    ### Your code starts from here \n",
    "    clf_df = pd.DataFrame(columns=['c', 'min', 'max', 'mean_abs', 'n_zero', 'test_score'])\n",
    "    c_lst = [0.001, 0.01, 0.1, 1, 10, 100]\n",
    "    clf_lst = []\n",
    "    for i in range(len(c_lst)):\n",
    "        reg_l = LogisticRegression(random_state=0, solver='liblinear', penalty=p, C=c_lst[i]).fit(X_train, y_train)\n",
    "        cf_reg = reg_l.coef_\n",
    "        clf_df.loc[i] = [c_lst[i], np.min(cf_reg), np.max(cf_reg), np.mean(abs(cf_reg)), len(cf_reg[0]) - np.count_nonzero(cf_reg), reg_l.score(X_test, y_test)]\n",
    "        clf_lst.append(reg_l)\n",
    "    return clf_lst, clf_df"
   ]
  },
  {
   "cell_type": "code",
   "execution_count": 88,
   "id": "d7fb1b3d",
   "metadata": {
    "ExecuteTime": {
     "end_time": "2024-02-02T22:15:10.671976Z",
     "start_time": "2024-02-02T22:15:10.627306Z"
    }
   },
   "outputs": [
    {
     "data": {
      "text/plain": "        c    min    max  mean_abs  n_zero  test_score\n0   0.001 -0.357 -0.074     0.190   0.000       0.922\n1   0.010 -0.861 -0.173     0.485   0.000       0.973\n2   0.100 -1.581 -0.163     0.915   0.000       0.988\n3   1.000 -2.835 -0.166     1.645   0.000       0.988\n4  10.000 -5.171 -0.290     2.937   0.000       0.988\n5 100.000 -7.648 -0.438     4.297   0.000       0.990",
      "text/html": "<div>\n<style scoped>\n    .dataframe tbody tr th:only-of-type {\n        vertical-align: middle;\n    }\n\n    .dataframe tbody tr th {\n        vertical-align: top;\n    }\n\n    .dataframe thead th {\n        text-align: right;\n    }\n</style>\n<table border=\"1\" class=\"dataframe\">\n  <thead>\n    <tr style=\"text-align: right;\">\n      <th></th>\n      <th>c</th>\n      <th>min</th>\n      <th>max</th>\n      <th>mean_abs</th>\n      <th>n_zero</th>\n      <th>test_score</th>\n    </tr>\n  </thead>\n  <tbody>\n    <tr>\n      <th>0</th>\n      <td>0.001</td>\n      <td>-0.357</td>\n      <td>-0.074</td>\n      <td>0.190</td>\n      <td>0.000</td>\n      <td>0.922</td>\n    </tr>\n    <tr>\n      <th>1</th>\n      <td>0.010</td>\n      <td>-0.861</td>\n      <td>-0.173</td>\n      <td>0.485</td>\n      <td>0.000</td>\n      <td>0.973</td>\n    </tr>\n    <tr>\n      <th>2</th>\n      <td>0.100</td>\n      <td>-1.581</td>\n      <td>-0.163</td>\n      <td>0.915</td>\n      <td>0.000</td>\n      <td>0.988</td>\n    </tr>\n    <tr>\n      <th>3</th>\n      <td>1.000</td>\n      <td>-2.835</td>\n      <td>-0.166</td>\n      <td>1.645</td>\n      <td>0.000</td>\n      <td>0.988</td>\n    </tr>\n    <tr>\n      <th>4</th>\n      <td>10.000</td>\n      <td>-5.171</td>\n      <td>-0.290</td>\n      <td>2.937</td>\n      <td>0.000</td>\n      <td>0.988</td>\n    </tr>\n    <tr>\n      <th>5</th>\n      <td>100.000</td>\n      <td>-7.648</td>\n      <td>-0.438</td>\n      <td>4.297</td>\n      <td>0.000</td>\n      <td>0.990</td>\n    </tr>\n  </tbody>\n</table>\n</div>"
     },
     "execution_count": 88,
     "metadata": {},
     "output_type": "execute_result"
    }
   ],
   "source": [
    "# running example\n",
    "l2_clfs, c_effect_l2 = compare_c(X_train, y_train, X_test, y_test, p='l2')\n",
    "c_effect_l2"
   ]
  },
  {
   "cell_type": "code",
   "execution_count": 89,
   "id": "7bd278a1",
   "metadata": {
    "ExecuteTime": {
     "end_time": "2024-02-02T22:15:13.232361Z",
     "start_time": "2024-02-02T22:15:13.170533Z"
    }
   },
   "outputs": [
    {
     "data": {
      "text/plain": "        c    min    max  mean_abs  n_zero  test_score\n0   0.001 -0.042  0.000     0.010   3.000       0.624\n1   0.010 -0.807  0.000     0.328   1.000       0.917\n2   0.100 -1.749  0.000     0.935   1.000       0.988\n3   1.000 -3.852 -0.133     2.172   0.000       0.988\n4  10.000 -7.081 -0.387     3.977   0.000       0.990\n5 100.000 -8.179 -0.463     4.586   0.000       0.990",
      "text/html": "<div>\n<style scoped>\n    .dataframe tbody tr th:only-of-type {\n        vertical-align: middle;\n    }\n\n    .dataframe tbody tr th {\n        vertical-align: top;\n    }\n\n    .dataframe thead th {\n        text-align: right;\n    }\n</style>\n<table border=\"1\" class=\"dataframe\">\n  <thead>\n    <tr style=\"text-align: right;\">\n      <th></th>\n      <th>c</th>\n      <th>min</th>\n      <th>max</th>\n      <th>mean_abs</th>\n      <th>n_zero</th>\n      <th>test_score</th>\n    </tr>\n  </thead>\n  <tbody>\n    <tr>\n      <th>0</th>\n      <td>0.001</td>\n      <td>-0.042</td>\n      <td>0.000</td>\n      <td>0.010</td>\n      <td>3.000</td>\n      <td>0.624</td>\n    </tr>\n    <tr>\n      <th>1</th>\n      <td>0.010</td>\n      <td>-0.807</td>\n      <td>0.000</td>\n      <td>0.328</td>\n      <td>1.000</td>\n      <td>0.917</td>\n    </tr>\n    <tr>\n      <th>2</th>\n      <td>0.100</td>\n      <td>-1.749</td>\n      <td>0.000</td>\n      <td>0.935</td>\n      <td>1.000</td>\n      <td>0.988</td>\n    </tr>\n    <tr>\n      <th>3</th>\n      <td>1.000</td>\n      <td>-3.852</td>\n      <td>-0.133</td>\n      <td>2.172</td>\n      <td>0.000</td>\n      <td>0.988</td>\n    </tr>\n    <tr>\n      <th>4</th>\n      <td>10.000</td>\n      <td>-7.081</td>\n      <td>-0.387</td>\n      <td>3.977</td>\n      <td>0.000</td>\n      <td>0.990</td>\n    </tr>\n    <tr>\n      <th>5</th>\n      <td>100.000</td>\n      <td>-8.179</td>\n      <td>-0.463</td>\n      <td>4.586</td>\n      <td>0.000</td>\n      <td>0.990</td>\n    </tr>\n  </tbody>\n</table>\n</div>"
     },
     "execution_count": 89,
     "metadata": {},
     "output_type": "execute_result"
    }
   ],
   "source": [
    "# running example\n",
    "l1_clfs, c_effect_l1 = compare_c(X_train, y_train, X_test, y_test, p='l1')\n",
    "c_effect_l1"
   ]
  },
  {
   "cell_type": "markdown",
   "id": "934a8855",
   "metadata": {},
   "source": [
    "**Your thoughts and observations:** \n",
    "  - explain model performance from the perspective of under-fitting VS over-fitting\n",
    "  - compare the two tables and indicate the difference between L1 and L2 penalty\n",
    "  - how does c affect coefficients and model performance in each table "
   ]
  },
  {
   "cell_type": "code",
   "execution_count": null,
   "id": "2c6fd232",
   "metadata": {},
   "outputs": [],
   "source": [
    "'''\n",
    "If the coefficients of too many features are reduced to zero, model would be under-fitted, leading to a worse performance.\n",
    "The l1 reduces coefficients of many features to zero, while l2 tends to retain variables.\n",
    "As c increases, the strength of regularization drops, thus leading to a better performance of the model.\n",
    "'''"
   ]
  },
  {
   "cell_type": "markdown",
   "id": "8cd39d68",
   "metadata": {},
   "source": [
    "### Interpret the model performance wrt the banknote authentication task\n",
    "- how does each feature relate with the identification of genuine and forged banknote\n",
    "- does these statistical correlations make sense from the perspective of image recognition "
   ]
  },
  {
   "cell_type": "code",
   "execution_count": 91,
   "id": "a0440979",
   "metadata": {
    "ExecuteTime": {
     "end_time": "2024-02-02T22:22:02.534095Z",
     "start_time": "2024-02-02T22:22:02.520994Z"
    }
   },
   "outputs": [
    {
     "data": {
      "text/plain": "array([[-3.85152883, -2.11687242, -2.58471858, -0.13330502]])"
     },
     "execution_count": 91,
     "metadata": {},
     "output_type": "execute_result"
    }
   ],
   "source": [
    "clf.coef_"
   ]
  },
  {
   "cell_type": "markdown",
   "source": [
    "Every feature influence the identification negatively, while the influence of entropy is rather minor.\n",
    "This conclusion generally makes sense."
   ],
   "metadata": {
    "collapsed": false
   },
   "id": "6e460255fc7d411e"
  },
  {
   "cell_type": "markdown",
   "id": "29bcb91b",
   "metadata": {},
   "source": [
    "## Summary\n",
    "Congratulations for completing this exercise! In this notebook, with hands-on practice of linear models for regression and classification tasks, we gain deep understanding of:\n",
    "- overfitting VS underfitting\n",
    "- difference between l1 and l2 regularizations\n",
    "- the effect of regularization strength on model performance"
   ]
  },
  {
   "cell_type": "markdown",
   "id": "327df471",
   "metadata": {},
   "source": [
    "## Which part(s) you find most interesting/chanlleging?"
   ]
  },
  {
   "cell_type": "code",
   "execution_count": 92,
   "id": "1638e4aa",
   "metadata": {
    "ExecuteTime": {
     "end_time": "2024-02-02T22:24:01.368219Z",
     "start_time": "2024-02-02T22:24:01.352403Z"
    }
   },
   "outputs": [
    {
     "data": {
      "text/plain": "'\\nThe parameters of different models are interesting while also quite challenging theoretically.\\n'"
     },
     "execution_count": 92,
     "metadata": {},
     "output_type": "execute_result"
    }
   ],
   "source": [
    "'''\n",
    "The parameters of different models are interesting while also quite challenging theoretically.\n",
    "'''"
   ]
  }
 ],
 "metadata": {
  "kernelspec": {
   "display_name": "Python 3",
   "language": "python",
   "name": "python3"
  },
  "language_info": {
   "codemirror_mode": {
    "name": "ipython",
    "version": 3
   },
   "file_extension": ".py",
   "mimetype": "text/x-python",
   "name": "python",
   "nbconvert_exporter": "python",
   "pygments_lexer": "ipython3",
   "version": "3.8.8"
  },
  "toc": {
   "base_numbering": 1,
   "nav_menu": {},
   "number_sections": true,
   "sideBar": true,
   "skip_h1_title": false,
   "title_cell": "Table of Contents",
   "title_sidebar": "Contents",
   "toc_cell": false,
   "toc_position": {},
   "toc_section_display": true,
   "toc_window_display": false
  }
 },
 "nbformat": 4,
 "nbformat_minor": 5
}
